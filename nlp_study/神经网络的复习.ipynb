{
 "cells": [
  {
   "cell_type": "markdown",
   "metadata": {},
   "source": [
    "矩阵相乘"
   ]
  },
  {
   "cell_type": "code",
   "execution_count": null,
   "metadata": {},
   "outputs": [
    {
     "data": {
      "text/plain": [
       "array([[19, 22],\n",
       "       [43, 50]])"
      ]
     },
     "execution_count": 1,
     "metadata": {},
     "output_type": "execute_result"
    }
   ],
   "source": [
    "import numpy as np\n",
    "A=np.array([[1,2],[3,4]])\n",
    "B=np.array([[5,6],[7,8]])\n",
    "np.dot(A,B)\n"
   ]
  },
  {
   "cell_type": "markdown",
   "metadata": {},
   "source": [
    "简易神经网络"
   ]
  },
  {
   "cell_type": "code",
   "execution_count": 2,
   "metadata": {},
   "outputs": [
    {
     "name": "stdout",
     "output_type": "stream",
     "text": [
      "[[-1.14345992  0.54889011 -3.73831465]\n",
      " [-1.26640778  0.35650041 -4.22274817]\n",
      " [-1.10796359  0.60462812 -3.6882283 ]\n",
      " [-1.61480016  0.45013333 -3.13112048]\n",
      " [-1.31779295  0.48006698 -3.61052249]\n",
      " [-1.11492334  0.57637767 -3.73616732]\n",
      " [-1.1652464   0.56025786 -3.62386562]\n",
      " [-1.10564029  0.61229222 -3.64969169]\n",
      " [-1.62074761  0.16644719 -4.29003269]\n",
      " [-1.10759546  0.61512896 -3.66120914]]\n"
     ]
    }
   ],
   "source": [
    "import numpy as np\n",
    "#激活函数\n",
    "def sigmoid(x):\n",
    "    return 1/(1+np.exp(-x))\n",
    "x=np.random.randn(10,2)\n",
    "w1=np.random.randn(2,4)\n",
    "b1=np.random.randn(4)\n",
    "w2=np.random.randn(4,3)\n",
    "b2=np.random.randn(3)\n",
    "h=np.dot(x,w1)+b1\n",
    "a=sigmoid(h)\n",
    "s=np.dot(a,w2)+b2\n",
    "print(s)"
   ]
  }
 ],
 "metadata": {
  "kernelspec": {
   "display_name": "Python 3",
   "language": "python",
   "name": "python3"
  },
  "language_info": {
   "codemirror_mode": {
    "name": "ipython",
    "version": 3
   },
   "file_extension": ".py",
   "mimetype": "text/x-python",
   "name": "python",
   "nbconvert_exporter": "python",
   "pygments_lexer": "ipython3",
   "version": "3.11.11"
  }
 },
 "nbformat": 4,
 "nbformat_minor": 2
}
